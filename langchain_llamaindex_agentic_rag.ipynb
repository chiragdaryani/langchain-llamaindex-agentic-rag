{
 "cells": [
  {
   "cell_type": "code",
   "execution_count": 28,
   "metadata": {},
   "outputs": [
    {
     "name": "stdout",
     "output_type": "stream",
     "text": [
      "Name: langchain\n",
      "Version: 0.1.17\n",
      "Name: langchain-community\n",
      "Version: 0.0.36\n",
      "Name: langchain-openai\n",
      "Version: 0.1.5\n",
      "Name: llama-index\n",
      "Version: 0.10.33\n",
      "Name: llama-index-llms-langchain\n",
      "Version: 0.1.3\n",
      "Name: duckduckgo_search\n",
      "Version: 5.3.0\n"
     ]
    }
   ],
   "source": [
    "#!pip install langchain langchain_community langchain_openai llama_index llama-index-llms-langchain duckduckgo-search\n",
    "\n",
    "#list package versions for reference:\n",
    "!pip show langchain langchain_community langchain_openai llama_index llama-index-llms-langchain duckduckgo-search | grep -E \"Name:|Version:\"\n"
   ]
  },
  {
   "cell_type": "code",
   "execution_count": 13,
   "metadata": {},
   "outputs": [],
   "source": [
    "# Set OpenAI API Key\n",
    "\n",
    "import os\n",
    "from getpass import getpass\n",
    "\n",
    "os.environ['OPENAI_API_KEY'] = getpass(\"Enter OpenAI API Key:\")"
   ]
  },
  {
   "cell_type": "code",
   "execution_count": 18,
   "metadata": {},
   "outputs": [],
   "source": [
    "# Required Imports\n",
    "\n",
    "from langchain_openai import ChatOpenAI\n",
    "\n",
    "from langchain.agents import Tool, AgentExecutor, create_tool_calling_agent\n",
    "from langchain_community.tools import DuckDuckGoSearchRun\n",
    "from langchain_core.prompts import ChatPromptTemplate\n",
    "\n",
    "from llama_index.embeddings.openai import OpenAIEmbedding\n",
    "from llama_index.core import ( SimpleDirectoryReader,VectorStoreIndex,StorageContext, load_index_from_storage, Settings)\n",
    "from llama_index.core.tools import QueryEngineTool, ToolMetadata"
   ]
  },
  {
   "cell_type": "code",
   "execution_count": 19,
   "metadata": {},
   "outputs": [],
   "source": [
    "# LLM \n",
    "llm = ChatOpenAI(model_name=\"gpt-4-1106-preview\", temperature=0, streaming=True)\n",
    "\n",
    "# Embedding Model\n",
    "embed_model = OpenAIEmbedding(\n",
    "    model=\"text-embedding-3-small\", embed_batch_size=100\n",
    ")\n",
    "\n",
    "# Set Llamaindex Configs\n",
    "Settings.llm = llm \n",
    "Settings.embed_model = embed_model"
   ]
  },
  {
   "cell_type": "code",
   "execution_count": 21,
   "metadata": {},
   "outputs": [
    {
     "name": "stdout",
     "output_type": "stream",
     "text": [
      "--2024-05-02 00:14:59--  https://raw.githubusercontent.com/run-llama/llama_index/main/docs/docs/examples/data/10k/uber_2021.pdf\n",
      "Resolving raw.githubusercontent.com (raw.githubusercontent.com)... 185.199.110.133, 185.199.108.133, 185.199.111.133, ...\n",
      "Connecting to raw.githubusercontent.com (raw.githubusercontent.com)|185.199.110.133|:443... connected.\n",
      "HTTP request sent, awaiting response... 200 OK\n",
      "Length: 1880483 (1.8M) [application/octet-stream]\n",
      "Saving to: ‘data/10k/uber_2021.pdf’\n",
      "\n",
      "data/10k/uber_2021. 100%[===================>]   1.79M  --.-KB/s    in 0.1s    \n",
      "\n",
      "2024-05-02 00:15:00 (16.2 MB/s) - ‘data/10k/uber_2021.pdf’ saved [1880483/1880483]\n",
      "\n",
      "--2024-05-02 00:15:00--  https://raw.githubusercontent.com/run-llama/llama_index/main/docs/docs/examples/data/10k/lyft_2021.pdf\n",
      "Resolving raw.githubusercontent.com (raw.githubusercontent.com)... 185.199.110.133, 185.199.108.133, 185.199.111.133, ...\n",
      "Connecting to raw.githubusercontent.com (raw.githubusercontent.com)|185.199.110.133|:443... connected.\n",
      "HTTP request sent, awaiting response... 200 OK\n",
      "Length: 1440303 (1.4M) [application/octet-stream]\n",
      "Saving to: ‘data/10k/lyft_2021.pdf’\n",
      "\n",
      "data/10k/lyft_2021. 100%[===================>]   1.37M  --.-KB/s    in 0.05s   \n",
      "\n",
      "2024-05-02 00:15:00 (29.6 MB/s) - ‘data/10k/lyft_2021.pdf’ saved [1440303/1440303]\n",
      "\n"
     ]
    }
   ],
   "source": [
    "#Download Sample PDFs\n",
    "\n",
    "!mkdir -p 'data/10k/'\n",
    "!wget 'https://raw.githubusercontent.com/run-llama/llama_index/main/docs/docs/examples/data/10k/uber_2021.pdf' -O 'data/10k/uber_2021.pdf'\n",
    "!wget 'https://raw.githubusercontent.com/run-llama/llama_index/main/docs/docs/examples/data/10k/lyft_2021.pdf' -O 'data/10k/lyft_2021.pdf'"
   ]
  },
  {
   "cell_type": "code",
   "execution_count": null,
   "metadata": {},
   "outputs": [],
   "source": []
  },
  {
   "cell_type": "markdown",
   "metadata": {},
   "source": [
    "#### Use LlamaIndex to create Query Engines for individual docs\n"
   ]
  },
  {
   "cell_type": "code",
   "execution_count": 22,
   "metadata": {},
   "outputs": [
    {
     "name": "stdout",
     "output_type": "stream",
     "text": [
      "Index is not present. We need it to create it again.\n",
      "Creating Index..\n",
      "LlamaIndex Query Engines created successfully.\n"
     ]
    }
   ],
   "source": [
    "#Building Indexes for each of the Documents\n",
    "try:\n",
    "    storage_context = StorageContext.from_defaults(\n",
    "        persist_dir=\"./storage/lyft\"\n",
    "    )\n",
    "    lyft_index = load_index_from_storage(storage_context)\n",
    "\n",
    "    storage_context = StorageContext.from_defaults(\n",
    "        persist_dir=\"./storage/uber\"\n",
    "    )\n",
    "    uber_index = load_index_from_storage(storage_context)\n",
    "\n",
    "    index_loaded = True\n",
    "    print(\"Index was already created. We just loaded it from the local storage.\")\n",
    "\n",
    "except:\n",
    "\n",
    "    index_loaded = False\n",
    "    print(\"Index is not present. We need it to create it again.\")\n",
    "\n",
    "if not index_loaded:\n",
    "\n",
    "    print(\"Creating Index..\")\n",
    "\n",
    "    # load data\n",
    "    lyft_docs = SimpleDirectoryReader(\n",
    "        input_files=[\"./data/10k/lyft_2021.pdf\"]\n",
    "    ).load_data()\n",
    "    uber_docs = SimpleDirectoryReader(\n",
    "        input_files=[\"./data/10k/uber_2021.pdf\"]\n",
    "    ).load_data()\n",
    "\n",
    "    # build index\n",
    "    lyft_index = VectorStoreIndex.from_documents(lyft_docs)\n",
    "    uber_index = VectorStoreIndex.from_documents(uber_docs)\n",
    "\n",
    "    # persist index\n",
    "    lyft_index.storage_context.persist(persist_dir=\"./storage/lyft\")\n",
    "    uber_index.storage_context.persist(persist_dir=\"./storage/uber\")\n",
    "    \n",
    "    index_loaded = True\n",
    "\n",
    "\n",
    "\n",
    "#Creating Query engines on top of the indexes\n",
    "\n",
    "lyft_engine = lyft_index.as_query_engine(similarity_top_k=3)\n",
    "uber_engine = uber_index.as_query_engine(similarity_top_k=3)\n",
    "\n",
    "print(\"LlamaIndex Query Engines created successfully.\")"
   ]
  },
  {
   "cell_type": "code",
   "execution_count": null,
   "metadata": {},
   "outputs": [],
   "source": []
  },
  {
   "cell_type": "markdown",
   "metadata": {},
   "source": [
    "#### We will now use the LlamaIndex QueryEngineTool abstraction to convert our query engines into Tools which can be used with Agents."
   ]
  },
  {
   "cell_type": "code",
   "execution_count": 23,
   "metadata": {},
   "outputs": [],
   "source": [
    "#creating tools for each of our query engines\n",
    "\n",
    "query_engine_tools = [\n",
    "\n",
    "    QueryEngineTool(\n",
    "        query_engine=lyft_engine,\n",
    "        metadata=ToolMetadata(\n",
    "            name=\"lyft_10k\",\n",
    "            description=(\n",
    "                \"Provides information about Lyft financials for year 2021. \"\n",
    "                \"Use a detailed plain text question as input to the tool.\"\n",
    "            ),\n",
    "        ),\n",
    "    ),\n",
    "    QueryEngineTool(\n",
    "        query_engine=uber_engine,\n",
    "        metadata=ToolMetadata(\n",
    "            name=\"uber_10k\",\n",
    "            description=(\n",
    "                \"Provides information about Uber financials for year 2021. \"\n",
    "                \"Use a detailed plain text question as input to the tool.\"\n",
    "            ),\n",
    "        ),\n",
    "    ),\n",
    "]"
   ]
  },
  {
   "cell_type": "code",
   "execution_count": null,
   "metadata": {},
   "outputs": [],
   "source": []
  },
  {
   "cell_type": "markdown",
   "metadata": {},
   "source": [
    "### Converting LlamaIndex Tools to Langchain Compatible Format Tools\n"
   ]
  },
  {
   "cell_type": "code",
   "execution_count": 24,
   "metadata": {},
   "outputs": [
    {
     "data": {
      "text/plain": [
       "[<llama_index.core.tools.query_engine.QueryEngineTool at 0x1408c6060>,\n",
       " <llama_index.core.tools.query_engine.QueryEngineTool at 0x1408c4d10>]"
      ]
     },
     "execution_count": 24,
     "metadata": {},
     "output_type": "execute_result"
    }
   ],
   "source": [
    "#before conversion\n",
    "query_engine_tools"
   ]
  },
  {
   "cell_type": "code",
   "execution_count": 25,
   "metadata": {},
   "outputs": [
    {
     "name": "stdout",
     "output_type": "stream",
     "text": [
      "No of LlamaIndex Tools: 2\n"
     ]
    }
   ],
   "source": [
    "llamaindex_to_langchain_converted_tools = [t.to_langchain_tool() for t in query_engine_tools]\n",
    "\n",
    "print(\"No of LlamaIndex Tools:\", len(llamaindex_to_langchain_converted_tools))"
   ]
  },
  {
   "cell_type": "code",
   "execution_count": 26,
   "metadata": {},
   "outputs": [
    {
     "data": {
      "text/plain": [
       "[Tool(name='lyft_10k', description='Provides information about Lyft financials for year 2021. Use a detailed plain text question as input to the tool.', args_schema=<class 'llama_index.core.tools.types.DefaultToolFnSchema'>, func=<bound method AsyncBaseTool.__call__ of <llama_index.core.tools.query_engine.QueryEngineTool object at 0x1408c6060>>),\n",
       " Tool(name='uber_10k', description='Provides information about Uber financials for year 2021. Use a detailed plain text question as input to the tool.', args_schema=<class 'llama_index.core.tools.types.DefaultToolFnSchema'>, func=<bound method AsyncBaseTool.__call__ of <llama_index.core.tools.query_engine.QueryEngineTool object at 0x1408c4d10>>)]"
      ]
     },
     "execution_count": 26,
     "metadata": {},
     "output_type": "execute_result"
    }
   ],
   "source": [
    "#after conversion\n",
    "llamaindex_to_langchain_converted_tools"
   ]
  },
  {
   "cell_type": "code",
   "execution_count": null,
   "metadata": {},
   "outputs": [],
   "source": []
  },
  {
   "cell_type": "markdown",
   "metadata": {},
   "source": [
    "#### Define an Additional Langchain Tool for External Web Search Functionality"
   ]
  },
  {
   "cell_type": "code",
   "execution_count": 29,
   "metadata": {},
   "outputs": [],
   "source": [
    "#Another Langchain Tool\n",
    "\n",
    "search = DuckDuckGoSearchRun()\n",
    "\n",
    "duckduckgo_tool = Tool(\n",
    "        name='DuckDuckGoSearch',\n",
    "        func= search.run,\n",
    "        description='Use for when you need to perform an internet search to find information that another tool can not provide.'\n",
    ")   \n",
    "\n",
    "langchain_tools = [duckduckgo_tool]"
   ]
  },
  {
   "cell_type": "code",
   "execution_count": 30,
   "metadata": {},
   "outputs": [
    {
     "data": {
      "text/plain": [
       "[Tool(name='DuckDuckGoSearch', description='Use for when you need to perform an internet search to find information that another tool can not provide.', func=<bound method BaseTool.run of DuckDuckGoSearchRun()>)]"
      ]
     },
     "execution_count": 30,
     "metadata": {},
     "output_type": "execute_result"
    }
   ],
   "source": [
    "langchain_tools"
   ]
  },
  {
   "cell_type": "code",
   "execution_count": null,
   "metadata": {},
   "outputs": [],
   "source": []
  },
  {
   "cell_type": "markdown",
   "metadata": {},
   "source": [
    "#### Combine Tools"
   ]
  },
  {
   "cell_type": "code",
   "execution_count": 31,
   "metadata": {},
   "outputs": [
    {
     "name": "stdout",
     "output_type": "stream",
     "text": [
      "No of Final tools: 3\n"
     ]
    }
   ],
   "source": [
    "#Combine to create final list of tools\n",
    "tools = llamaindex_to_langchain_converted_tools + langchain_tools\n",
    "\n",
    "print(\"No of Final tools:\", len(tools))"
   ]
  },
  {
   "cell_type": "code",
   "execution_count": 32,
   "metadata": {},
   "outputs": [
    {
     "data": {
      "text/plain": [
       "[Tool(name='lyft_10k', description='Provides information about Lyft financials for year 2021. Use a detailed plain text question as input to the tool.', args_schema=<class 'llama_index.core.tools.types.DefaultToolFnSchema'>, func=<bound method AsyncBaseTool.__call__ of <llama_index.core.tools.query_engine.QueryEngineTool object at 0x1408c6060>>),\n",
       " Tool(name='uber_10k', description='Provides information about Uber financials for year 2021. Use a detailed plain text question as input to the tool.', args_schema=<class 'llama_index.core.tools.types.DefaultToolFnSchema'>, func=<bound method AsyncBaseTool.__call__ of <llama_index.core.tools.query_engine.QueryEngineTool object at 0x1408c4d10>>),\n",
       " Tool(name='DuckDuckGoSearch', description='Use for when you need to perform an internet search to find information that another tool can not provide.', func=<bound method BaseTool.run of DuckDuckGoSearchRun()>)]"
      ]
     },
     "execution_count": 32,
     "metadata": {},
     "output_type": "execute_result"
    }
   ],
   "source": [
    "tools"
   ]
  },
  {
   "cell_type": "code",
   "execution_count": null,
   "metadata": {},
   "outputs": [],
   "source": []
  },
  {
   "cell_type": "markdown",
   "metadata": {},
   "source": [
    "#### Inititalize Langchain's Tool Calling Agent with an Agent Executor\n",
    "\n",
    "\n",
    "By creating the 'tool calling agent', we provide access to multiple tools for the LLM. The agent intelligently chooses to repeatedly call the appropriate tools and receives results until the user's query is resolved. \n",
    "\n",
    "The tool-calling agent is the newest, and more general agent implementation that supports a wide variety of LLM providers such as OpenAI, Anthropic, Google Gemini, Mistral, and others.\n",
    "\n"
   ]
  },
  {
   "cell_type": "code",
   "execution_count": 33,
   "metadata": {},
   "outputs": [
    {
     "data": {
      "text/plain": [
       "RunnableAssign(mapper={\n",
       "  agent_scratchpad: RunnableLambda(lambda x: format_to_tool_messages(x['intermediate_steps']))\n",
       "})\n",
       "| ChatPromptTemplate(input_variables=['input'], input_types={'chat_history': typing.List[typing.Union[langchain_core.messages.ai.AIMessage, langchain_core.messages.human.HumanMessage, langchain_core.messages.chat.ChatMessage, langchain_core.messages.system.SystemMessage, langchain_core.messages.function.FunctionMessage, langchain_core.messages.tool.ToolMessage]], 'agent_scratchpad': typing.List[typing.Union[langchain_core.messages.ai.AIMessage, langchain_core.messages.human.HumanMessage, langchain_core.messages.chat.ChatMessage, langchain_core.messages.system.SystemMessage, langchain_core.messages.function.FunctionMessage, langchain_core.messages.tool.ToolMessage]]}, partial_variables={'chat_history': [], 'agent_scratchpad': []}, messages=[SystemMessagePromptTemplate(prompt=PromptTemplate(input_variables=[], template='You are a stock market expert.You will answer questions about Uber and Lyft companies as in the persona of a veteran stock market investor.')), MessagesPlaceholder(variable_name='chat_history', optional=True), HumanMessagePromptTemplate(prompt=PromptTemplate(input_variables=['input'], template='{input}')), MessagesPlaceholder(variable_name='agent_scratchpad', optional=True)])\n",
       "| RunnableBinding(bound=ChatOpenAI(client=<openai.resources.chat.completions.Completions object at 0x132846b70>, async_client=<openai.resources.chat.completions.AsyncCompletions object at 0x13371c680>, model_name='gpt-4-1106-preview', temperature=0.0, openai_api_key=SecretStr('**********'), openai_proxy='', streaming=True), kwargs={'tools': [{'type': 'function', 'function': {'name': 'lyft_10k', 'description': 'Provides information about Lyft financials for year 2021. Use a detailed plain text question as input to the tool.', 'parameters': {'type': 'object', 'properties': {'input': {'type': 'string'}}, 'required': ['input']}}}, {'type': 'function', 'function': {'name': 'uber_10k', 'description': 'Provides information about Uber financials for year 2021. Use a detailed plain text question as input to the tool.', 'parameters': {'type': 'object', 'properties': {'input': {'type': 'string'}}, 'required': ['input']}}}, {'type': 'function', 'function': {'name': 'DuckDuckGoSearch', 'description': 'Use for when you need to perform an internet search to find information that another tool can not provide.', 'parameters': {'properties': {'__arg1': {'title': '__arg1', 'type': 'string'}}, 'required': ['__arg1'], 'type': 'object'}}}]})\n",
       "| ToolsAgentOutputParser()"
      ]
     },
     "execution_count": 33,
     "metadata": {},
     "output_type": "execute_result"
    }
   ],
   "source": [
    "system_context = \"You are a stock market expert.\\\n",
    "You will answer questions about Uber and Lyft companies as in the persona of a veteran stock market investor.\"\n",
    "\n",
    "prompt = ChatPromptTemplate.from_messages(\n",
    "    [\n",
    "        (\n",
    "            \"system\",\n",
    "            system_context,\n",
    "        ),\n",
    "        (\"placeholder\", \"{chat_history}\"),\n",
    "        (\"human\", \"{input}\"),\n",
    "        (\"placeholder\", \"{agent_scratchpad}\"),\n",
    "    ]\n",
    ")\n",
    "\n",
    "# Construct the Tools agent\n",
    "agent = create_tool_calling_agent(llm, tools, prompt,)\n",
    "agent"
   ]
  },
  {
   "cell_type": "code",
   "execution_count": 34,
   "metadata": {},
   "outputs": [
    {
     "data": {
      "text/plain": [
       "AgentExecutor(verbose=True, agent=RunnableMultiActionAgent(runnable=RunnableAssign(mapper={\n",
       "  agent_scratchpad: RunnableLambda(lambda x: format_to_tool_messages(x['intermediate_steps']))\n",
       "})\n",
       "| ChatPromptTemplate(input_variables=['input'], input_types={'chat_history': typing.List[typing.Union[langchain_core.messages.ai.AIMessage, langchain_core.messages.human.HumanMessage, langchain_core.messages.chat.ChatMessage, langchain_core.messages.system.SystemMessage, langchain_core.messages.function.FunctionMessage, langchain_core.messages.tool.ToolMessage]], 'agent_scratchpad': typing.List[typing.Union[langchain_core.messages.ai.AIMessage, langchain_core.messages.human.HumanMessage, langchain_core.messages.chat.ChatMessage, langchain_core.messages.system.SystemMessage, langchain_core.messages.function.FunctionMessage, langchain_core.messages.tool.ToolMessage]]}, partial_variables={'chat_history': [], 'agent_scratchpad': []}, messages=[SystemMessagePromptTemplate(prompt=PromptTemplate(input_variables=[], template='You are a stock market expert.You will answer questions about Uber and Lyft companies as in the persona of a veteran stock market investor.')), MessagesPlaceholder(variable_name='chat_history', optional=True), HumanMessagePromptTemplate(prompt=PromptTemplate(input_variables=['input'], template='{input}')), MessagesPlaceholder(variable_name='agent_scratchpad', optional=True)])\n",
       "| RunnableBinding(bound=ChatOpenAI(client=<openai.resources.chat.completions.Completions object at 0x132846b70>, async_client=<openai.resources.chat.completions.AsyncCompletions object at 0x13371c680>, model_name='gpt-4-1106-preview', temperature=0.0, openai_api_key=SecretStr('**********'), openai_proxy='', streaming=True), kwargs={'tools': [{'type': 'function', 'function': {'name': 'lyft_10k', 'description': 'Provides information about Lyft financials for year 2021. Use a detailed plain text question as input to the tool.', 'parameters': {'type': 'object', 'properties': {'input': {'type': 'string'}}, 'required': ['input']}}}, {'type': 'function', 'function': {'name': 'uber_10k', 'description': 'Provides information about Uber financials for year 2021. Use a detailed plain text question as input to the tool.', 'parameters': {'type': 'object', 'properties': {'input': {'type': 'string'}}, 'required': ['input']}}}, {'type': 'function', 'function': {'name': 'DuckDuckGoSearch', 'description': 'Use for when you need to perform an internet search to find information that another tool can not provide.', 'parameters': {'properties': {'__arg1': {'title': '__arg1', 'type': 'string'}}, 'required': ['__arg1'], 'type': 'object'}}}]})\n",
       "| ToolsAgentOutputParser(), input_keys_arg=[], return_keys_arg=[], stream_runnable=True), tools=[Tool(name='lyft_10k', description='Provides information about Lyft financials for year 2021. Use a detailed plain text question as input to the tool.', args_schema=<class 'llama_index.core.tools.types.DefaultToolFnSchema'>, func=<bound method AsyncBaseTool.__call__ of <llama_index.core.tools.query_engine.QueryEngineTool object at 0x1408c6060>>), Tool(name='uber_10k', description='Provides information about Uber financials for year 2021. Use a detailed plain text question as input to the tool.', args_schema=<class 'llama_index.core.tools.types.DefaultToolFnSchema'>, func=<bound method AsyncBaseTool.__call__ of <llama_index.core.tools.query_engine.QueryEngineTool object at 0x1408c4d10>>), Tool(name='DuckDuckGoSearch', description='Use for when you need to perform an internet search to find information that another tool can not provide.', func=<bound method BaseTool.run of DuckDuckGoSearchRun()>)], return_intermediate_steps=True, max_iterations=10, handle_parsing_errors=True)"
      ]
     },
     "execution_count": 34,
     "metadata": {},
     "output_type": "execute_result"
    }
   ],
   "source": [
    "# Create an agent executor by passing in the agent and tools\n",
    "agent_executor = AgentExecutor(agent=agent, tools=tools, verbose=True, return_intermediate_steps=True, handle_parsing_errors=True, max_iterations=10)\n",
    "agent_executor"
   ]
  },
  {
   "cell_type": "code",
   "execution_count": null,
   "metadata": {},
   "outputs": [],
   "source": []
  },
  {
   "cell_type": "markdown",
   "metadata": {},
   "source": [
    "### Testing:"
   ]
  },
  {
   "cell_type": "code",
   "execution_count": 35,
   "metadata": {},
   "outputs": [
    {
     "name": "stdout",
     "output_type": "stream",
     "text": [
      "\n",
      "\n",
      "\u001b[1m> Entering new AgentExecutor chain...\u001b[0m\n",
      "\u001b[32;1m\u001b[1;3m\n",
      "Invoking: `lyft_10k` with `{'input': \"What was Lyft's revenue growth in 2021?\"}`\n",
      "\n",
      "\n",
      "\u001b[0m"
     ]
    },
    {
     "name": "stderr",
     "output_type": "stream",
     "text": [
      "/Users/chirag/anaconda3/envs/GenAiMay24/lib/python3.12/site-packages/langchain_core/_api/deprecation.py:119: LangChainDeprecationWarning: The method `BaseChatModel.predict_messages` was deprecated in langchain-core 0.1.7 and will be removed in 0.2.0. Use invoke instead.\n",
      "  warn_deprecated(\n"
     ]
    },
    {
     "name": "stdout",
     "output_type": "stream",
     "text": [
      "\u001b[36;1m\u001b[1;3mLyft's revenue increased 36% in 2021 compared to the prior year.\u001b[0m\u001b[32;1m\u001b[1;3mLyft's revenue grew by 36% in 2021 compared to the previous year.\u001b[0m\n",
      "\n",
      "\u001b[1m> Finished chain.\u001b[0m\n",
      "\n",
      "Final Response: Lyft's revenue grew by 36% in 2021 compared to the previous year.\n"
     ]
    }
   ],
   "source": [
    "question =  \"What was Lyft's revenue growth in 2021?\"\n",
    "\n",
    "response = agent_executor.invoke({\"input\": question})\n",
    "\n",
    "print(\"\\nFinal Response:\", response['output'])"
   ]
  },
  {
   "cell_type": "code",
   "execution_count": 36,
   "metadata": {},
   "outputs": [],
   "source": [
    "#It invoked the lyft query engine tool as desired."
   ]
  },
  {
   "cell_type": "code",
   "execution_count": null,
   "metadata": {},
   "outputs": [],
   "source": []
  },
  {
   "cell_type": "code",
   "execution_count": 37,
   "metadata": {},
   "outputs": [
    {
     "name": "stdout",
     "output_type": "stream",
     "text": [
      "\n",
      "\n",
      "\u001b[1m> Entering new AgentExecutor chain...\u001b[0m\n",
      "\u001b[32;1m\u001b[1;3m\n",
      "Invoking: `uber_10k` with `{'input': \"What was Uber's profitability in 2021?\"}`\n",
      "\n",
      "\n",
      "\u001b[0m\u001b[33;1m\u001b[1;3mIn 2021, Uber Technologies, Inc. reported a net loss attributable to the company of $496 million. Despite this net loss, the company saw an improvement in its profitability compared to the previous year, with the net loss decreasing by 93% from $6,768 million in 2020. Additionally, Uber's Adjusted EBITDA loss was $774 million in 2021, which was an improvement of $1.8 billion from the previous year.\u001b[0m\u001b[32;1m\u001b[1;3mUber was not profitable in 2021, as the company reported a net loss attributable to Uber of $496 million. However, it's important to note that this was a significant improvement compared to the previous year, with the net loss decreasing by 93% from $6,768 million in 2020. Additionally, Uber's Adjusted EBITDA loss was $774 million in 2021, which also showed an improvement of $1.8 billion from the previous year. This indicates that while Uber was not profitable in 2021, the company was moving closer to profitability.\u001b[0m\n",
      "\n",
      "\u001b[1m> Finished chain.\u001b[0m\n",
      "\n",
      "Final Response: Uber was not profitable in 2021, as the company reported a net loss attributable to Uber of $496 million. However, it's important to note that this was a significant improvement compared to the previous year, with the net loss decreasing by 93% from $6,768 million in 2020. Additionally, Uber's Adjusted EBITDA loss was $774 million in 2021, which also showed an improvement of $1.8 billion from the previous year. This indicates that while Uber was not profitable in 2021, the company was moving closer to profitability.\n"
     ]
    }
   ],
   "source": [
    "question =  \"Is Uber profitable?\"\n",
    "\n",
    "response = agent_executor.invoke({\"input\": question})\n",
    "\n",
    "print(\"\\nFinal Response:\", response['output'])"
   ]
  },
  {
   "cell_type": "code",
   "execution_count": 38,
   "metadata": {},
   "outputs": [],
   "source": [
    "#It invoked the uber query engine tool as desired."
   ]
  },
  {
   "cell_type": "code",
   "execution_count": null,
   "metadata": {},
   "outputs": [],
   "source": []
  },
  {
   "cell_type": "code",
   "execution_count": 39,
   "metadata": {},
   "outputs": [
    {
     "name": "stdout",
     "output_type": "stream",
     "text": [
      "\n",
      "\n",
      "\u001b[1m> Entering new AgentExecutor chain...\u001b[0m\n",
      "\u001b[32;1m\u001b[1;3m\n",
      "Invoking: `DuckDuckGoSearch` with `Uber board of directors 2023`\n",
      "\n",
      "\n",
      "\u001b[0m\u001b[38;5;200m\u001b[1;3mFourth quarter trips and monthly active platform consumers grew 24% and 15% year-over-year, respectively Fourth quarter Gross Bookings grew 22% year-over-year and 21% year-over-year on a constant currency basis Fourth quarter net income of $1.4 billion; Income from operations of $652 million; Record Adjusted EBITDA margin Fourth quarter operating cash flow of $823 million; Free cash flow of ... On November 7, 2023, Uber Technologies, Inc. (the \"Company\") issued a press release announcing its financial results for the third quarter ended September 30, 2023. A copy of the press release is furnished herewith as Exhibit 99.1 and is incorporated herein by reference. ... Election of Directors; Appointment of Certain Officers ... August 15, 2023 05:01 AM Eastern Daylight Time. OAKLAND, Calif.-- ( BUSINESS WIRE )--Today, social impact venture Him For Her announced Dara Khosrowshahi, CEO of Uber, has joined its board of ... On November 16, 2023, the Board of Directors of Uber Technologies, Inc. appointed Turqi Alnowaiser to the Board. Mr. Alnowaiser, 46, has served as Deputy Governor and Head of the International Investments Division at the Public Investment Fund, a sovereign wealth fund of the Kingdom of Saudi Arabia, since June 2021, and previously served as Head of International Investments at the Public ... SAN FRANCISCO--(BUSINESS WIRE)-- Uber Technologies, Inc. (NYSE: UBER) today announced financial results for the quarter ended September 30, 2023. Financial Highlights for Third Quarter 2023. Gross Bookings grew 21% year-over-year (\"YoY\") to $35.3 billion, or 20% on a constant currency basis, with Mobility Gross Bookings of $17.9 billion (+31% YoY or +30% YoY constant currency) and Delivery ...\u001b[0m\u001b[32;1m\u001b[1;3mThe search results did not directly provide a list of Uber's board of directors. However, it did mention a couple of individuals associated with the board:\n",
      "\n",
      "- Dara Khosrowshahi, CEO of Uber, has joined the board of a social impact venture called Him For Her.\n",
      "- Turqi Alnowaiser was appointed to the Board of Directors of Uber Technologies, Inc. on November 16, 2023.\n",
      "\n",
      "For a complete and current list of Uber's board of directors, I would recommend checking Uber's official website or their most recent investor relations filings, as board compositions can change over time and may not be fully captured in a single search result.\u001b[0m\n",
      "\n",
      "\u001b[1m> Finished chain.\u001b[0m\n",
      "\n",
      "Final Response: The search results did not directly provide a list of Uber's board of directors. However, it did mention a couple of individuals associated with the board:\n",
      "\n",
      "- Dara Khosrowshahi, CEO of Uber, has joined the board of a social impact venture called Him For Her.\n",
      "- Turqi Alnowaiser was appointed to the Board of Directors of Uber Technologies, Inc. on November 16, 2023.\n",
      "\n",
      "For a complete and current list of Uber's board of directors, I would recommend checking Uber's official website or their most recent investor relations filings, as board compositions can change over time and may not be fully captured in a single search result.\n"
     ]
    }
   ],
   "source": [
    "question =  \"List me the names of Uber's board of directors.\"\n",
    "\n",
    "response = agent_executor.invoke({\"input\": question})\n",
    "\n",
    "print(\"\\nFinal Response:\", response['output'])\n",
    "\n"
   ]
  },
  {
   "cell_type": "code",
   "execution_count": 40,
   "metadata": {},
   "outputs": [],
   "source": [
    "#Since this information is absent in any of the documents, it invoked the external search tool."
   ]
  },
  {
   "cell_type": "code",
   "execution_count": null,
   "metadata": {},
   "outputs": [],
   "source": []
  },
  {
   "cell_type": "code",
   "execution_count": null,
   "metadata": {},
   "outputs": [],
   "source": []
  },
  {
   "cell_type": "code",
   "execution_count": null,
   "metadata": {},
   "outputs": [],
   "source": []
  }
 ],
 "metadata": {
  "kernelspec": {
   "display_name": "GenAiApril24",
   "language": "python",
   "name": "python3"
  },
  "language_info": {
   "codemirror_mode": {
    "name": "ipython",
    "version": 3
   },
   "file_extension": ".py",
   "mimetype": "text/x-python",
   "name": "python",
   "nbconvert_exporter": "python",
   "pygments_lexer": "ipython3",
   "version": "3.12.3"
  }
 },
 "nbformat": 4,
 "nbformat_minor": 2
}
